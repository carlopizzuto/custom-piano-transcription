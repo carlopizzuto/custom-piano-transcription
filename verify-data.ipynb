{
 "cells": [
  {
   "cell_type": "code",
   "execution_count": null,
   "metadata": {},
   "outputs": [],
   "source": [
    "import os\n",
    "from mido import MidiFile\n"
   ]
  },
  {
   "cell_type": "code",
   "execution_count": null,
   "metadata": {},
   "outputs": [],
   "source": [
    "DATASET_DIR = \"/workspace/datasets/aug/2008\"\n",
    "\n",
    "def verify_midi_files(dataset_dir):\n",
    "    for file in os.listdir(dataset_dir):\n",
    "        if file.endswith('.mid'):\n",
    "            tracks = MidiFile(os.path.join(dataset_dir, file)).tracks\n",
    "            if len(tracks) != 2:\n",
    "                print(\"1 TRACK FILE FOUND:\")\n",
    "                print(file)\n",
    "                print(tracks)\n",
    "            else:\n",
    "                print('2 track file ', file)\n",
    "                print(tracks[0])\n",
    "\n",
    "verify_midi_files(DATASET_DIR)"
   ]
  }
 ],
 "metadata": {
  "kernelspec": {
   "display_name": "aim-kong",
   "language": "python",
   "name": "python3"
  },
  "language_info": {
   "name": "python",
   "version": "3.10.12"
  }
 },
 "nbformat": 4,
 "nbformat_minor": 2
}
