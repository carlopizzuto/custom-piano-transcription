{
 "cells": [
  {
   "cell_type": "code",
   "execution_count": 68,
   "metadata": {},
   "outputs": [],
   "source": [
    "import pandas as pd\n",
    "import os"
   ]
  },
  {
   "cell_type": "code",
   "execution_count": 80,
   "metadata": {},
   "outputs": [],
   "source": [
    "def split_dir(dir, df, train_thresh=25):\n",
    "    instrument = dir.split('_')[1]\n",
    "    new_dir = os.path.join(dir, instrument, \"MUS\")\n",
    "    \n",
    "    i = 0\n",
    "    for file in os.listdir(new_dir):\n",
    "        if file.endswith('.wav'):\n",
    "            base_name = file.replace('.wav', '')\n",
    "            wav_path = file\n",
    "            midi_path = base_name + '.mid'\n",
    "            text_path = base_name + '.txt'\n",
    "            song_name = base_name.replace('MAPS_MUS-', '').replace('-', '_')\n",
    "            composer = song_name.split('_')[0]\n",
    "            with open(os.path.join(new_dir, text_path), 'r') as f:\n",
    "                lines = f.readlines()\n",
    "                \n",
    "            last_line = lines[-1].split(\"\\t\")\n",
    "            duration = float(last_line[1])\n",
    "            split = 'train' if i < train_thresh else 'test'\n",
    "            year = 2008\n",
    "            \n",
    "            new_row = pd.DataFrame({\n",
    "                'canonical_composer': [composer],\n",
    "                'canonical_title': [song_name],\n",
    "                'split': [split],\n",
    "                'year': [year],\n",
    "                'midi_filename': [midi_path],\n",
    "                'audio_filename': [wav_path],\n",
    "                'duration': [duration]\n",
    "            })\n",
    "            df = pd.concat([df, new_row], ignore_index=True)\n",
    "            i += 1\n",
    "    return df\n"
   ]
  },
  {
   "cell_type": "code",
   "execution_count": 81,
   "metadata": {},
   "outputs": [
    {
     "name": "stdout",
     "output_type": "stream",
     "text": [
      "Directories in working directory: ['MAPS_AkPnStgb_2', 'MAPS_AkPnBcht_2']\n"
     ]
    }
   ],
   "source": [
    "directories = [d for d in os.listdir('/workspace/data/maps') if os.path.isdir(d)]\n",
    "print(\"Directories in working directory:\", directories)\n"
   ]
  },
  {
   "cell_type": "code",
   "execution_count": 82,
   "metadata": {},
   "outputs": [
    {
     "data": {
      "text/html": [
       "<div>\n",
       "<style scoped>\n",
       "    .dataframe tbody tr th:only-of-type {\n",
       "        vertical-align: middle;\n",
       "    }\n",
       "\n",
       "    .dataframe tbody tr th {\n",
       "        vertical-align: top;\n",
       "    }\n",
       "\n",
       "    .dataframe thead th {\n",
       "        text-align: right;\n",
       "    }\n",
       "</style>\n",
       "<table border=\"1\" class=\"dataframe\">\n",
       "  <thead>\n",
       "    <tr style=\"text-align: right;\">\n",
       "      <th></th>\n",
       "      <th>canonical_composer</th>\n",
       "      <th>canonical_title</th>\n",
       "      <th>split</th>\n",
       "      <th>year</th>\n",
       "      <th>midi_filename</th>\n",
       "      <th>audio_filename</th>\n",
       "      <th>duration</th>\n",
       "    </tr>\n",
       "  </thead>\n",
       "  <tbody>\n",
       "    <tr>\n",
       "      <th>0</th>\n",
       "      <td>chpn</td>\n",
       "      <td>chpn_p10_AkPnStgb</td>\n",
       "      <td>train</td>\n",
       "      <td>2008</td>\n",
       "      <td>MAPS_MUS-chpn-p10_AkPnStgb.mid</td>\n",
       "      <td>MAPS_MUS-chpn-p10_AkPnStgb.wav</td>\n",
       "      <td>23.8060</td>\n",
       "    </tr>\n",
       "    <tr>\n",
       "      <th>1</th>\n",
       "      <td>appass</td>\n",
       "      <td>appass_3_AkPnStgb</td>\n",
       "      <td>train</td>\n",
       "      <td>2008</td>\n",
       "      <td>MAPS_MUS-appass_3_AkPnStgb.mid</td>\n",
       "      <td>MAPS_MUS-appass_3_AkPnStgb.wav</td>\n",
       "      <td>465.1290</td>\n",
       "    </tr>\n",
       "    <tr>\n",
       "      <th>2</th>\n",
       "      <td>waldstein</td>\n",
       "      <td>waldstein_1_AkPnStgb</td>\n",
       "      <td>train</td>\n",
       "      <td>2008</td>\n",
       "      <td>MAPS_MUS-waldstein_1_AkPnStgb.mid</td>\n",
       "      <td>MAPS_MUS-waldstein_1_AkPnStgb.wav</td>\n",
       "      <td>618.9340</td>\n",
       "    </tr>\n",
       "    <tr>\n",
       "      <th>3</th>\n",
       "      <td>bk</td>\n",
       "      <td>bk_xmas2_AkPnStgb</td>\n",
       "      <td>train</td>\n",
       "      <td>2008</td>\n",
       "      <td>MAPS_MUS-bk_xmas2_AkPnStgb.mid</td>\n",
       "      <td>MAPS_MUS-bk_xmas2_AkPnStgb.wav</td>\n",
       "      <td>399.2800</td>\n",
       "    </tr>\n",
       "    <tr>\n",
       "      <th>4</th>\n",
       "      <td>bor</td>\n",
       "      <td>bor_ps5_AkPnStgb</td>\n",
       "      <td>train</td>\n",
       "      <td>2008</td>\n",
       "      <td>MAPS_MUS-bor_ps5_AkPnStgb.mid</td>\n",
       "      <td>MAPS_MUS-bor_ps5_AkPnStgb.wav</td>\n",
       "      <td>95.3238</td>\n",
       "    </tr>\n",
       "  </tbody>\n",
       "</table>\n",
       "</div>"
      ],
      "text/plain": [
       "  canonical_composer       canonical_title  split  year  \\\n",
       "0               chpn     chpn_p10_AkPnStgb  train  2008   \n",
       "1             appass     appass_3_AkPnStgb  train  2008   \n",
       "2          waldstein  waldstein_1_AkPnStgb  train  2008   \n",
       "3                 bk     bk_xmas2_AkPnStgb  train  2008   \n",
       "4                bor      bor_ps5_AkPnStgb  train  2008   \n",
       "\n",
       "                       midi_filename                     audio_filename  \\\n",
       "0     MAPS_MUS-chpn-p10_AkPnStgb.mid     MAPS_MUS-chpn-p10_AkPnStgb.wav   \n",
       "1     MAPS_MUS-appass_3_AkPnStgb.mid     MAPS_MUS-appass_3_AkPnStgb.wav   \n",
       "2  MAPS_MUS-waldstein_1_AkPnStgb.mid  MAPS_MUS-waldstein_1_AkPnStgb.wav   \n",
       "3     MAPS_MUS-bk_xmas2_AkPnStgb.mid     MAPS_MUS-bk_xmas2_AkPnStgb.wav   \n",
       "4      MAPS_MUS-bor_ps5_AkPnStgb.mid      MAPS_MUS-bor_ps5_AkPnStgb.wav   \n",
       "\n",
       "   duration  \n",
       "0   23.8060  \n",
       "1  465.1290  \n",
       "2  618.9340  \n",
       "3  399.2800  \n",
       "4   95.3238  "
      ]
     },
     "execution_count": 82,
     "metadata": {},
     "output_type": "execute_result"
    }
   ],
   "source": [
    "directory = directories[0]\n",
    "df = pd.DataFrame(columns=[\"canonical_composer\", \"canonical_title\", \"split\", \"year\", \"midi_filename\", \"audio_filename\", \"duration\"])\n",
    "df = split_dir(directory, df)\n",
    "\n",
    "df.head()"
   ]
  },
  {
   "cell_type": "code",
   "execution_count": 83,
   "metadata": {},
   "outputs": [
    {
     "data": {
      "text/plain": [
       "train    25\n",
       "test      5\n",
       "Name: split, dtype: int64"
      ]
     },
     "execution_count": 83,
     "metadata": {},
     "output_type": "execute_result"
    }
   ],
   "source": [
    "df['split'].value_counts()"
   ]
  },
  {
   "cell_type": "code",
   "execution_count": 85,
   "metadata": {},
   "outputs": [
    {
     "data": {
      "text/html": [
       "<div>\n",
       "<style scoped>\n",
       "    .dataframe tbody tr th:only-of-type {\n",
       "        vertical-align: middle;\n",
       "    }\n",
       "\n",
       "    .dataframe tbody tr th {\n",
       "        vertical-align: top;\n",
       "    }\n",
       "\n",
       "    .dataframe thead th {\n",
       "        text-align: right;\n",
       "    }\n",
       "</style>\n",
       "<table border=\"1\" class=\"dataframe\">\n",
       "  <thead>\n",
       "    <tr style=\"text-align: right;\">\n",
       "      <th></th>\n",
       "      <th>canonical_composer</th>\n",
       "      <th>canonical_title</th>\n",
       "      <th>split</th>\n",
       "      <th>year</th>\n",
       "      <th>midi_filename</th>\n",
       "      <th>audio_filename</th>\n",
       "      <th>duration</th>\n",
       "    </tr>\n",
       "  </thead>\n",
       "  <tbody>\n",
       "    <tr>\n",
       "      <th>0</th>\n",
       "      <td>chpn</td>\n",
       "      <td>chpn_p12_AkPnBcht</td>\n",
       "      <td>train</td>\n",
       "      <td>2008</td>\n",
       "      <td>MAPS_MUS-chpn-p12_AkPnBcht.mid</td>\n",
       "      <td>MAPS_MUS-chpn-p12_AkPnBcht.wav</td>\n",
       "      <td>57.1319</td>\n",
       "    </tr>\n",
       "    <tr>\n",
       "      <th>1</th>\n",
       "      <td>chpn</td>\n",
       "      <td>chpn_op66_AkPnBcht</td>\n",
       "      <td>train</td>\n",
       "      <td>2008</td>\n",
       "      <td>MAPS_MUS-chpn_op66_AkPnBcht.mid</td>\n",
       "      <td>MAPS_MUS-chpn_op66_AkPnBcht.wav</td>\n",
       "      <td>274.9310</td>\n",
       "    </tr>\n",
       "    <tr>\n",
       "      <th>2</th>\n",
       "      <td>chpn</td>\n",
       "      <td>chpn_p24_AkPnBcht</td>\n",
       "      <td>train</td>\n",
       "      <td>2008</td>\n",
       "      <td>MAPS_MUS-chpn-p24_AkPnBcht.mid</td>\n",
       "      <td>MAPS_MUS-chpn-p24_AkPnBcht.wav</td>\n",
       "      <td>123.2190</td>\n",
       "    </tr>\n",
       "    <tr>\n",
       "      <th>3</th>\n",
       "      <td>hay</td>\n",
       "      <td>hay_40_1_AkPnBcht</td>\n",
       "      <td>train</td>\n",
       "      <td>2008</td>\n",
       "      <td>MAPS_MUS-hay_40_1_AkPnBcht.mid</td>\n",
       "      <td>MAPS_MUS-hay_40_1_AkPnBcht.wav</td>\n",
       "      <td>394.8680</td>\n",
       "    </tr>\n",
       "    <tr>\n",
       "      <th>4</th>\n",
       "      <td>muss</td>\n",
       "      <td>muss_5_AkPnBcht</td>\n",
       "      <td>train</td>\n",
       "      <td>2008</td>\n",
       "      <td>MAPS_MUS-muss_5_AkPnBcht.mid</td>\n",
       "      <td>MAPS_MUS-muss_5_AkPnBcht.wav</td>\n",
       "      <td>100.4470</td>\n",
       "    </tr>\n",
       "  </tbody>\n",
       "</table>\n",
       "</div>"
      ],
      "text/plain": [
       "  canonical_composer     canonical_title  split  year  \\\n",
       "0               chpn   chpn_p12_AkPnBcht  train  2008   \n",
       "1               chpn  chpn_op66_AkPnBcht  train  2008   \n",
       "2               chpn   chpn_p24_AkPnBcht  train  2008   \n",
       "3                hay   hay_40_1_AkPnBcht  train  2008   \n",
       "4               muss     muss_5_AkPnBcht  train  2008   \n",
       "\n",
       "                     midi_filename                   audio_filename  duration  \n",
       "0   MAPS_MUS-chpn-p12_AkPnBcht.mid   MAPS_MUS-chpn-p12_AkPnBcht.wav   57.1319  \n",
       "1  MAPS_MUS-chpn_op66_AkPnBcht.mid  MAPS_MUS-chpn_op66_AkPnBcht.wav  274.9310  \n",
       "2   MAPS_MUS-chpn-p24_AkPnBcht.mid   MAPS_MUS-chpn-p24_AkPnBcht.wav  123.2190  \n",
       "3   MAPS_MUS-hay_40_1_AkPnBcht.mid   MAPS_MUS-hay_40_1_AkPnBcht.wav  394.8680  \n",
       "4     MAPS_MUS-muss_5_AkPnBcht.mid     MAPS_MUS-muss_5_AkPnBcht.wav  100.4470  "
      ]
     },
     "execution_count": 85,
     "metadata": {},
     "output_type": "execute_result"
    }
   ],
   "source": [
    "directory = directories[1]\n",
    "df2 = pd.DataFrame(columns=[\"canonical_composer\", \"canonical_title\", \"split\", \"year\", \"midi_filename\", \"audio_filename\", \"duration\"])\n",
    "df2 = split_dir(directory, df2)\n",
    "\n",
    "df2.head()"
   ]
  },
  {
   "cell_type": "code",
   "execution_count": null,
   "metadata": {},
   "outputs": [],
   "source": []
  }
 ],
 "metadata": {
  "kernelspec": {
   "display_name": "aim-kong",
   "language": "python",
   "name": "python3"
  },
  "language_info": {
   "codemirror_mode": {
    "name": "ipython",
    "version": 3
   },
   "file_extension": ".py",
   "mimetype": "text/x-python",
   "name": "python",
   "nbconvert_exporter": "python",
   "pygments_lexer": "ipython3",
   "version": "3.10.12"
  }
 },
 "nbformat": 4,
 "nbformat_minor": 2
}
